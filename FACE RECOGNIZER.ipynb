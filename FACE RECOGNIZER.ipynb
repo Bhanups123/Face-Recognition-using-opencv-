{
 "cells": [
  {
   "cell_type": "code",
   "execution_count": 1,
   "metadata": {},
   "outputs": [],
   "source": [
    "train0 = 'H:/python/all1/Bill gates'\n",
    "train1 = 'H:/python/all1/elon musk'\n",
    "algopath = 'H:/python/all1/haarcascade_frontalface_default.xml'"
   ]
  },
  {
   "cell_type": "code",
   "execution_count": 2,
   "metadata": {},
   "outputs": [],
   "source": [
    "import cv2\n",
    "import os\n",
    "import numpy as np\n",
    "from tqdm import tqdm"
   ]
  },
  {
   "cell_type": "code",
   "execution_count": 3,
   "metadata": {},
   "outputs": [],
   "source": [
    "fcascade = cv2.CascadeClassifier(algopath)"
   ]
  },
  {
   "cell_type": "code",
   "execution_count": 4,
   "metadata": {},
   "outputs": [],
   "source": [
    "train_data = []\n",
    "labels =[]\n",
    "i=0\n",
    "def training_data(directory,label):\n",
    "    for x in tqdm(os.listdir(directory)):\n",
    "        path = os.path.join(directory , x)\n",
    "        gray_img = cv2.imread(path ,0)\n",
    "\n",
    "        if gray_img is None:\n",
    "            continue\n",
    "        gray_img = cv2.resize(gray_img, (500,500))\n",
    "        faces_rect =fcascade.detectMultiScale(gray_img,scaleFactor=1.10,minNeighbors = 1)\n",
    "        if len(faces_rect)==0:\n",
    "            continue\n",
    "        (x,y,w,h) = faces_rect[0]\n",
    "        grayfaceonly = gray_img[y:y+h,x:x+w]\n",
    "        train_data.append(grayfaceonly) \n",
    "        labels.append(label)\n",
    "    return train_data,labels"
   ]
  },
  {
   "cell_type": "code",
   "execution_count": 15,
   "metadata": {},
   "outputs": [
    {
     "name": "stderr",
     "output_type": "stream",
     "text": [
      "100%|██████████████████████████████████████████████████████████████████████████████████| 10/10 [00:01<00:00,  4.91it/s]\n",
      "100%|██████████████████████████████████████████████████████████████████████████████████| 10/10 [00:03<00:00,  2.83it/s]\n"
     ]
    }
   ],
   "source": [
    "t_data0 , label0 = training_data(train0,[0])\n",
    "t_data1 , label1 = training_data(train1,[1])"
   ]
  },
  {
   "cell_type": "code",
   "execution_count": 16,
   "metadata": {},
   "outputs": [],
   "source": [
    "t_data = t_data0 + t_data1\n",
    "t_labels = label0 + label1\n"
   ]
  },
  {
   "cell_type": "code",
   "execution_count": 17,
   "metadata": {},
   "outputs": [],
   "source": [
    "face_recg = cv2.face.LBPHFaceRecognizer_create()"
   ]
  },
  {
   "cell_type": "code",
   "execution_count": 18,
   "metadata": {},
   "outputs": [],
   "source": [
    "face_recg.train(t_data , np.array(t_labels))"
   ]
  },
  {
   "cell_type": "code",
   "execution_count": 24,
   "metadata": {
    "scrolled": false
   },
   "outputs": [],
   "source": [
    "test_img = cv2.imread('H:/python/all1/elon-musk-and-bill-gates.jpg')"
   ]
  },
  {
   "cell_type": "code",
   "execution_count": 25,
   "metadata": {},
   "outputs": [],
   "source": [
    "test_img = cv2.resize(test_img,(int(test_img.shape[1]/1.2),int(test_img.shape[0]/1.2)))\n",
    "gray_img = cv2.cvtColor(test_img , cv2.COLOR_RGB2GRAY)"
   ]
  },
  {
   "cell_type": "code",
   "execution_count": 26,
   "metadata": {},
   "outputs": [],
   "source": [
    "faces_rect =fcascade.detectMultiScale(gray_img,scaleFactor=1.1,minSize=(25,25),minNeighbors = 5,flags = cv2.CASCADE_SCALE_IMAGE)"
   ]
  },
  {
   "cell_type": "code",
   "execution_count": 27,
   "metadata": {},
   "outputs": [],
   "source": [
    "name = { 0 : \"Bill Gates\" , 1 : \"Elon Musk\"}"
   ]
  },
  {
   "cell_type": "code",
   "execution_count": 28,
   "metadata": {},
   "outputs": [],
   "source": [
    "for (x,y,w,h) in faces_rect:\n",
    "    value , conf = face_recg.predict(gray_img[y:y+h,x:x+w])\n",
    "    if conf > 100:\n",
    "        continue\n",
    "    cv2.rectangle(test_img,(x,y),(x+w,y+h),(145,14,15),2)\n",
    "    cv2.putText(test_img,name[value],(x,y-5), cv2.FONT_HERSHEY_DUPLEX,1,(2,152,10),1)\n",
    "    cv2.imshow(\"FACE RECOGNIZER\",test_img)\n",
    "    \n",
    "    cv2.waitKey(0)\n",
    "    cv2.destroyAllWindows()"
   ]
  },
  {
   "cell_type": "code",
   "execution_count": null,
   "metadata": {},
   "outputs": [],
   "source": []
  }
 ],
 "metadata": {
  "kernelspec": {
   "display_name": "Python 3",
   "language": "python",
   "name": "python3"
  },
  "language_info": {
   "codemirror_mode": {
    "name": "ipython",
    "version": 3
   },
   "file_extension": ".py",
   "mimetype": "text/x-python",
   "name": "python",
   "nbconvert_exporter": "python",
   "pygments_lexer": "ipython3",
   "version": "3.7.1"
  }
 },
 "nbformat": 4,
 "nbformat_minor": 2
}
